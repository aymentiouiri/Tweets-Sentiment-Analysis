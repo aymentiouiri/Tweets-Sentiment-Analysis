{
 "cells": [
  {
   "cell_type": "markdown",
   "metadata": {},
   "source": [
    "### Data Import "
   ]
  },
  {
   "cell_type": "markdown",
   "metadata": {},
   "source": [
    "Import the required packages"
   ]
  },
  {
   "cell_type": "code",
   "execution_count": 3,
   "metadata": {},
   "outputs": [],
   "source": [
    "\n",
    "import numpy as np # Simple linear algebra calculations\n",
    "import pandas as pd # pandas to read csv files \n",
    "import warnings\n",
    "warnings.filterwarnings('ignore')\n",
    "import matplotlib.pyplot as plt\n",
    "import seaborn as sns\n",
    "import nltk\n",
    "from nltk.stem import PorterStemmer, WordNetLemmatizer\n",
    "from wordcloud import WordCloud\n",
    "import re\n",
    "import gensim\n",
    "from sklearn.model_selection import train_test_split\n",
    "from sklearn.feature_extraction.text import CountVectorizer, TfidfVectorizer\n",
    "from sklearn.utils import resample\n",
    "from sklearn.metrics import accuracy_score, f1_score\n",
    "from transformers import BertTokenizer\n",
    "from tqdm import tqdm"
   ]
  },
  {
   "cell_type": "markdown",
   "metadata": {},
   "source": [
    "Import the dataset, which consists on training set labeled and an unlabeled test set. "
   ]
  },
  {
   "cell_type": "code",
   "execution_count": 4,
   "metadata": {},
   "outputs": [
    {
     "name": "stdout",
     "output_type": "stream",
     "text": [
      "/Users/aymentiouiri/Desktop/workspace/Sentiment-Analysis/data/tweet-hatred-speech/test.csv\n",
      "/Users/aymentiouiri/Desktop/workspace/Sentiment-Analysis/data/tweet-hatred-speech/train.csv\n"
     ]
    }
   ],
   "source": [
    "import os\n",
    "for dirname, _, filenames in os.walk('/Users/aymentiouiri/Desktop/workspace/Sentiment-Analysis/data/tweet-hatred-speech'):\n",
    "    for filename in filenames:\n",
    "        print(os.path.join(dirname, filename))"
   ]
  },
  {
   "cell_type": "code",
   "execution_count": 5,
   "metadata": {},
   "outputs": [],
   "source": [
    "df = pd.read_csv('/Users/aymentiouiri/Desktop/workspace/Sentiment-Analysis/data/tweet-hatred-speech/train.csv')\n",
    "test = pd.read_csv('/Users/aymentiouiri/Desktop/workspace/Sentiment-Analysis/data/tweet-hatred-speech/test.csv')"
   ]
  },
  {
   "cell_type": "markdown",
   "metadata": {},
   "source": [
    "### Data Quality "
   ]
  },
  {
   "cell_type": "markdown",
   "metadata": {},
   "source": [
    "We are going to investigate the quality of the dataset by  checking for null values, the structure of the data, outliers and the label distribution.\n"
   ]
  },
  {
   "cell_type": "code",
   "execution_count": 6,
   "metadata": {},
   "outputs": [
    {
     "data": {
      "text/html": [
       "<div>\n",
       "<style scoped>\n",
       "    .dataframe tbody tr th:only-of-type {\n",
       "        vertical-align: middle;\n",
       "    }\n",
       "\n",
       "    .dataframe tbody tr th {\n",
       "        vertical-align: top;\n",
       "    }\n",
       "\n",
       "    .dataframe thead th {\n",
       "        text-align: right;\n",
       "    }\n",
       "</style>\n",
       "<table border=\"1\" class=\"dataframe\">\n",
       "  <thead>\n",
       "    <tr style=\"text-align: right;\">\n",
       "      <th></th>\n",
       "      <th>id</th>\n",
       "      <th>label</th>\n",
       "      <th>tweet</th>\n",
       "    </tr>\n",
       "  </thead>\n",
       "  <tbody>\n",
       "    <tr>\n",
       "      <th>0</th>\n",
       "      <td>1</td>\n",
       "      <td>0</td>\n",
       "      <td>@user when a father is dysfunctional and is s...</td>\n",
       "    </tr>\n",
       "    <tr>\n",
       "      <th>1</th>\n",
       "      <td>2</td>\n",
       "      <td>0</td>\n",
       "      <td>@user @user thanks for #lyft credit i can't us...</td>\n",
       "    </tr>\n",
       "    <tr>\n",
       "      <th>2</th>\n",
       "      <td>3</td>\n",
       "      <td>0</td>\n",
       "      <td>bihday your majesty</td>\n",
       "    </tr>\n",
       "    <tr>\n",
       "      <th>3</th>\n",
       "      <td>4</td>\n",
       "      <td>0</td>\n",
       "      <td>#model   i love u take with u all the time in ...</td>\n",
       "    </tr>\n",
       "    <tr>\n",
       "      <th>4</th>\n",
       "      <td>5</td>\n",
       "      <td>0</td>\n",
       "      <td>factsguide: society now    #motivation</td>\n",
       "    </tr>\n",
       "    <tr>\n",
       "      <th>5</th>\n",
       "      <td>6</td>\n",
       "      <td>0</td>\n",
       "      <td>[2/2] huge fan fare and big talking before the...</td>\n",
       "    </tr>\n",
       "    <tr>\n",
       "      <th>6</th>\n",
       "      <td>7</td>\n",
       "      <td>0</td>\n",
       "      <td>@user camping tomorrow @user @user @user @use...</td>\n",
       "    </tr>\n",
       "    <tr>\n",
       "      <th>7</th>\n",
       "      <td>8</td>\n",
       "      <td>0</td>\n",
       "      <td>the next school year is the year for exams.ð...</td>\n",
       "    </tr>\n",
       "    <tr>\n",
       "      <th>8</th>\n",
       "      <td>9</td>\n",
       "      <td>0</td>\n",
       "      <td>we won!!! love the land!!! #allin #cavs #champ...</td>\n",
       "    </tr>\n",
       "    <tr>\n",
       "      <th>9</th>\n",
       "      <td>10</td>\n",
       "      <td>0</td>\n",
       "      <td>@user @user welcome here !  i'm   it's so #gr...</td>\n",
       "    </tr>\n",
       "  </tbody>\n",
       "</table>\n",
       "</div>"
      ],
      "text/plain": [
       "   id  label                                              tweet\n",
       "0   1      0   @user when a father is dysfunctional and is s...\n",
       "1   2      0  @user @user thanks for #lyft credit i can't us...\n",
       "2   3      0                                bihday your majesty\n",
       "3   4      0  #model   i love u take with u all the time in ...\n",
       "4   5      0             factsguide: society now    #motivation\n",
       "5   6      0  [2/2] huge fan fare and big talking before the...\n",
       "6   7      0   @user camping tomorrow @user @user @user @use...\n",
       "7   8      0  the next school year is the year for exams.ð...\n",
       "8   9      0  we won!!! love the land!!! #allin #cavs #champ...\n",
       "9  10      0   @user @user welcome here !  i'm   it's so #gr..."
      ]
     },
     "execution_count": 6,
     "metadata": {},
     "output_type": "execute_result"
    }
   ],
   "source": [
    "df.head(10) #check for anomalies by looking at the top 20 tweets. "
   ]
  },
  {
   "cell_type": "code",
   "execution_count": 7,
   "metadata": {},
   "outputs": [
    {
     "data": {
      "text/plain": [
       "id       0\n",
       "label    0\n",
       "tweet    0\n",
       "dtype: int64"
      ]
     },
     "execution_count": 7,
     "metadata": {},
     "output_type": "execute_result"
    }
   ],
   "source": [
    "# check for null values \n",
    "df.isnull().sum() # this checks whether for each column we have null values and sums the total number"
   ]
  },
  {
   "cell_type": "code",
   "execution_count": 8,
   "metadata": {},
   "outputs": [
    {
     "data": {
      "text/plain": [
       "label\n",
       "0    29720\n",
       "1     2242\n",
       "Name: count, dtype: int64"
      ]
     },
     "execution_count": 8,
     "metadata": {},
     "output_type": "execute_result"
    }
   ],
   "source": [
    "# check for the label distribution\n",
    "df['label'].value_counts() # this counts the number of elements in the label column by category"
   ]
  },
  {
   "cell_type": "code",
   "execution_count": 9,
   "metadata": {},
   "outputs": [
    {
     "data": {
      "image/png": "[encoded data removed]",
      "text/plain": [
       "<Figure size 800x600 with 1 Axes>"
      ]
     },
     "metadata": {},
     "output_type": "display_data"
    }
   ],
   "source": [
    "plt.figure(figsize=(8, 6))\n",
    "df['label'].value_counts().plot(kind='bar', color='skyblue')\n",
    "plt.title('Label Distribution')\n",
    "plt.xlabel('Sentiment Label')\n",
    "plt.ylabel('Count')\n",
    "plt.xticks(rotation=45)\n",
    "plt.show()"
   ]
  },
  {
   "cell_type": "markdown",
   "metadata": {},
   "source": [
    "We clearly see that the dataset is unbalanced. We might consider to use upsampling for category 1 in order to have a balanced training set."
   ]
  },
  {
   "cell_type": "code",
   "execution_count": 10,
   "metadata": {},
   "outputs": [
    {
     "name": "stdout",
     "output_type": "stream",
     "text": [
      "Text Length Statistics:\n",
      "count    31962.000000\n",
      "mean        84.739628\n",
      "std         29.455749\n",
      "min         11.000000\n",
      "25%         63.000000\n",
      "50%         88.000000\n",
      "75%        108.000000\n",
      "max        274.000000\n",
      "Name: text_length, dtype: float64\n"
     ]
    }
   ],
   "source": [
    "# check for outliers, a tweet would be considered as outlier if the length of the tweet exceeds 280 \n",
    "df['text_length'] = df['tweet'].apply(lambda x: len(str(x)))\n",
    "text_length_stats = df['text_length'].describe()\n",
    "print(\"Text Length Statistics:\")\n",
    "print(text_length_stats)\n",
    "\n",
    "# The statistic description shows that the maximum is 274 characters\n",
    "\n"
   ]
  },
  {
   "cell_type": "code",
   "execution_count": 11,
   "metadata": {},
   "outputs": [
    {
     "data": {
      "text/plain": [
       "([0, 1], [Text(0, 0, '0'), Text(1, 0, '1')])"
      ]
     },
     "execution_count": 11,
     "metadata": {},
     "output_type": "execute_result"
    },
    {
     "data": {
      "image/png": "[encoded data removed]",
      "text/plain": [
       "<Figure size 800x600 with 2 Axes>"
      ]
     },
     "metadata": {},
     "output_type": "display_data"
    }
   ],
   "source": [
    "# Plot text length distribution\n",
    "plt.figure(figsize=(8, 6))\n",
    "plt.subplot(1,2,1)\n",
    "plt.hist(df['text_length'], bins=30, color='salmon')\n",
    "plt.title('Text Length Distribution')\n",
    "plt.xlabel('Text Length')\n",
    "plt.ylabel('Frequency')\n",
    "plt.subplot(1,2,2)\n",
    "#plt.figure(figsize=(8, 6))\n",
    "sns.boxplot(x='label', y='text_length', data=df, palette='Set2')\n",
    "plt.title('Boxplot of Text Length by Label')\n",
    "plt.xlabel('Sentiment Label')\n",
    "plt.ylabel('Text Length')\n",
    "plt.xticks(rotation=45)\n",
    "#plt.show()\n"
   ]
  },
  {
   "cell_type": "markdown",
   "metadata": {},
   "source": [
    "We distinguish the presence of some outliers, we will see if we need to remove them from our dataset, since they do not influence the outcome of the analysis"
   ]
  },
  {
   "cell_type": "markdown",
   "metadata": {},
   "source": [
    "### Data Cleanning"
   ]
  },
  {
   "cell_type": "code",
   "execution_count": 12,
   "metadata": {},
   "outputs": [
    {
     "data": {
      "text/plain": [
       "49159"
      ]
     },
     "execution_count": 12,
     "metadata": {},
     "output_type": "execute_result"
    }
   ],
   "source": [
    "# We first need to combinne the training and test set for cleaning \n",
    "\n",
    "alltext = df['tweet'].tolist() + test['tweet'].tolist()\n",
    "len(alltext)"
   ]
  },
  {
   "cell_type": "code",
   "execution_count": 13,
   "metadata": {},
   "outputs": [
    {
     "name": "stderr",
     "output_type": "stream",
     "text": [
      "[nltk_data] Downloading package stopwords to\n",
      "[nltk_data]     /Users/aymentiouiri/nltk_data...\n",
      "[nltk_data]   Package stopwords is already up-to-date!\n"
     ]
    }
   ],
   "source": [
    "nltk.download('stopwords') # stopwords is used for finding the most common words and remove them. \"I\",\"me\",\"my\",\"myself\" \n",
    "stopword = nltk.corpus.stopwords.words('english')\n",
    "stopword.remove('not') # we remove not because it has something to do with the sentiment\n",
    "processed_text = []\n",
    "for text_ in alltext:\n",
    "    text_ = re.sub(r'@[\\w]*', '', text_)  # Removing Twitter Handles (@user)\n",
    "    text_ = re.sub(r'http\\S+', '', text_)  # Removing URLs from text \n",
    "    text_ = re.sub(r'[^A-Za-z#]', ' ', text_)  # Removing Punctuations, Numbers, and Special Characters\n",
    "    text_ = \" \".join(i.lower() for i in text_.split() if i.lower() not in stopword)  # Removing stopwords\n",
    "    processed_text.append(text_)"
   ]
  },
  {
   "cell_type": "code",
   "execution_count": 14,
   "metadata": {},
   "outputs": [
    {
     "name": "stdout",
     "output_type": "stream",
     "text": [
      "no\n"
     ]
    }
   ],
   "source": [
    "if \"not\" in stopword:\n",
    "    print(\"yes\")\n",
    "else:\n",
    "    print(\"no\")\n"
   ]
  },
  {
   "cell_type": "code",
   "execution_count": 15,
   "metadata": {},
   "outputs": [
    {
     "data": {
      "text/plain": [
       "(' @user when a father is dysfunctional and is so selfish he drags his kids into his dysfunction.   #run',\n",
       " 'father dysfunctional selfish drags kids dysfunction #run')"
      ]
     },
     "execution_count": 15,
     "metadata": {},
     "output_type": "execute_result"
    }
   ],
   "source": [
    "alltext[0],processed_text[0]"
   ]
  },
  {
   "cell_type": "markdown",
   "metadata": {},
   "source": [
    "### Vectorization"
   ]
  },
  {
   "cell_type": "markdown",
   "metadata": {},
   "source": [
    "1-TfidfVectorizer from scikit-learn converts a collection of processed text data into a matrix of TF-IDF (Term Frequency-Inverse Document Frequency) features.\n",
    "\n",
    "2-fit_transform(processed_text): This method computes the TF-IDF values for each term in the processed text and returns a sparse matrix where each row represents a document (or text sample) and each column represents a term. The matrix is transformed in such a way that each term frequency is weighted by its inverse document frequency."
   ]
  },
  {
   "cell_type": "code",
   "execution_count": 16,
   "metadata": {},
   "outputs": [],
   "source": [
    "# Term Frequency inverse Document frequency conversion TF-IDF\n",
    "vectorizer = TfidfVectorizer(ngram_range=(1, 2), min_df=2, max_features=1000) # transofrm to tf-idf\n",
    "tfidf_matrix = vectorizer.fit_transform(processed_text).toarray()"
   ]
  },
  {
   "cell_type": "code",
   "execution_count": 19,
   "metadata": {},
   "outputs": [
    {
     "data": {
      "text/plain": [
       "(TfidfVectorizer(max_features=1000, min_df=2, ngram_range=(1, 2)),\n",
       " (49159, 1000))"
      ]
     },
     "execution_count": 19,
     "metadata": {},
     "output_type": "execute_result"
    }
   ],
   "source": [
    "vectorizer,tfidf_matrix.shape"
   ]
  },
  {
   "cell_type": "code",
   "execution_count": 22,
   "metadata": {},
   "outputs": [],
   "source": [
    "tokenized_text = [text.split() for text in processed_text]\n",
    "w2v_model = gensim.models.Word2Vec(tokenized_text, min_count=1, vector_size=100, window=5, sg=1)\n",
    "w2v_words = list(w2v_model.wv.index_to_key)"
   ]
  },
  {
   "cell_type": "code",
   "execution_count": 23,
   "metadata": {},
   "outputs": [
    {
     "name": "stderr",
     "output_type": "stream",
     "text": [
      "100%|██████████| 49159/49159 [01:49<00:00, 447.70it/s]\n"
     ]
    }
   ],
   "source": [
    "# Generate vectors using Word2Vec\n",
    "vectors = []\n",
    "for sent in tqdm(tokenized_text):\n",
    "    sent_vec = np.zeros(100)\n",
    "    count = 0\n",
    "    for word in sent:\n",
    "        if word in w2v_words:\n",
    "            vec = w2v_model.wv[word]\n",
    "            sent_vec += vec\n",
    "            count += 1\n",
    "    if count != 0:\n",
    "        sent_vec /= count  # Normalize\n",
    "    vectors.append(sent_vec)"
   ]
  },
  {
   "cell_type": "code",
   "execution_count": 24,
   "metadata": {},
   "outputs": [],
   "source": [
    "# Remove duplicate rows\n",
    "df.drop_duplicates(subset=['tweet'], keep='first', inplace=True)\n",
    "\n",
    "# Reset DataFrame index\n",
    "df.reset_index(drop=True, inplace=True)\n",
    "\n",
    "# Assign vectors to DataFrame\n",
    "df['vectors'] = vectors[:len(df)]\n",
    "\n",
    "# Balancing the classes by upsampling the minority class\n",
    "major_class_0, major_class_1 = df.label.value_counts()\n",
    "df_major = df[df['label'] == 0]\n",
    "df_minor = df[df['label'] == 1]\n",
    "df_minor_upsampled = resample(df_minor, replace=True, n_samples=major_class_0)\n",
    "df_upsampled = pd.concat([df_major, df_minor_upsampled])"
   ]
  },
  {
   "cell_type": "code",
   "execution_count": 25,
   "metadata": {},
   "outputs": [],
   "source": [
    "# Train/test split\n",
    "x_train, x_test, y_train, y_test = train_test_split(df_upsampled['vectors'].tolist(), df_upsampled['label'], test_size=0.2)"
   ]
  },
  {
   "cell_type": "code",
   "execution_count": 26,
   "metadata": {},
   "outputs": [
    {
     "name": "stdout",
     "output_type": "stream",
     "text": [
      "Accuracy Score: 0.977196329608431\n",
      "F1 Score: 0.9771423367635006\n"
     ]
    }
   ],
   "source": [
    "# Model training and evaluation\n",
    "from sklearn.ensemble import RandomForestClassifier\n",
    "\n",
    "model = RandomForestClassifier(n_estimators=100)\n",
    "model.fit(x_train, y_train)\n",
    "y_pred = model.predict(x_test)\n",
    "acc = accuracy_score(y_pred, y_test)\n",
    "print('Accuracy Score:', acc)\n",
    "y_proba = model.predict_proba(x_test)\n",
    "f1_scor = f1_score(y_pred, y_test)\n",
    "print('F1 Score:', f1_scor)"
   ]
  }
 ],
 "metadata": {
  "kernelspec": {
   "display_name": "Python 3",
   "language": "python",
   "name": "python3"
  },
  "language_info": {
   "codemirror_mode": {
    "name": "ipython",
    "version": 3
   },
   "file_extension": ".py",
   "mimetype": "text/x-python",
   "name": "python",
   "nbconvert_exporter": "python",
   "pygments_lexer": "ipython3",
   "version": "3.9.6"
  }
 },
 "nbformat": 4,
 "nbformat_minor": 2
}
